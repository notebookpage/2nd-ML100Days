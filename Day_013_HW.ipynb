{
 "cells": [
  {
   "cell_type": "markdown",
   "metadata": {
    "collapsed": true
   },
   "source": [
    "# [作業目標]\n",
    "- 使用 Day 12 剛學到的方法, 對較完整的資料生成離散化特徵\n",
    "- 觀察上述離散化特徵, 對於目標值的預測有沒有幫助"
   ]
  },
  {
   "cell_type": "markdown",
   "metadata": {
    "collapsed": true
   },
   "source": [
    "# [作業重點]\n",
    "- 仿照 Day 12 的語法, 將年齡資料 ('DAYS_BIRTH' 除以 365) 離散化\n",
    "- 繪製上述的 \"離散化標籤\" 與目標值 ('TARGET') 的長條圖"
   ]
  },
  {
   "cell_type": "code",
   "execution_count": 22,
   "metadata": {},
   "outputs": [],
   "source": [
    "# 載入需要的套件\n",
    "import os\n",
    "import numpy as np\n",
    "import pandas as pd\n",
    "import matplotlib.pyplot as plt\n",
    "%matplotlib inline\n",
    "import seaborn as sns # 另一個繪圖-樣式套件\n",
    "\n",
    "# 設定 data_path\n",
    "dir_data = './data/'"
   ]
  },
  {
   "cell_type": "markdown",
   "metadata": {},
   "source": [
    "### 之前做過的處理"
   ]
  },
  {
   "cell_type": "code",
   "execution_count": 3,
   "metadata": {},
   "outputs": [
    {
     "data": {
      "text/plain": [
       "(307511, 122)"
      ]
     },
     "execution_count": 3,
     "metadata": {},
     "output_type": "execute_result"
    }
   ],
   "source": [
    "# 讀取資料檔\n",
    "f_app_train = os.path.join(dir_data, 'application_train.csv')\n",
    "app_train = pd.read_csv(f_app_train)\n",
    "app_train.shape"
   ]
  },
  {
   "cell_type": "code",
   "execution_count": 3,
   "metadata": {},
   "outputs": [
    {
     "name": "stdout",
     "output_type": "stream",
     "text": [
      "(307511, 122)\n"
     ]
    },
    {
     "data": {
      "text/html": [
       "<div>\n",
       "<style scoped>\n",
       "    .dataframe tbody tr th:only-of-type {\n",
       "        vertical-align: middle;\n",
       "    }\n",
       "\n",
       "    .dataframe tbody tr th {\n",
       "        vertical-align: top;\n",
       "    }\n",
       "\n",
       "    .dataframe thead th {\n",
       "        text-align: right;\n",
       "    }\n",
       "</style>\n",
       "<table border=\"1\" class=\"dataframe\">\n",
       "  <thead>\n",
       "    <tr style=\"text-align: right;\">\n",
       "      <th></th>\n",
       "      <th>SK_ID_CURR</th>\n",
       "      <th>TARGET</th>\n",
       "      <th>NAME_CONTRACT_TYPE</th>\n",
       "      <th>CODE_GENDER</th>\n",
       "      <th>FLAG_OWN_CAR</th>\n",
       "      <th>FLAG_OWN_REALTY</th>\n",
       "      <th>CNT_CHILDREN</th>\n",
       "      <th>AMT_INCOME_TOTAL</th>\n",
       "      <th>AMT_CREDIT</th>\n",
       "      <th>AMT_ANNUITY</th>\n",
       "      <th>...</th>\n",
       "      <th>FLAG_DOCUMENT_18</th>\n",
       "      <th>FLAG_DOCUMENT_19</th>\n",
       "      <th>FLAG_DOCUMENT_20</th>\n",
       "      <th>FLAG_DOCUMENT_21</th>\n",
       "      <th>AMT_REQ_CREDIT_BUREAU_HOUR</th>\n",
       "      <th>AMT_REQ_CREDIT_BUREAU_DAY</th>\n",
       "      <th>AMT_REQ_CREDIT_BUREAU_WEEK</th>\n",
       "      <th>AMT_REQ_CREDIT_BUREAU_MON</th>\n",
       "      <th>AMT_REQ_CREDIT_BUREAU_QRT</th>\n",
       "      <th>AMT_REQ_CREDIT_BUREAU_YEAR</th>\n",
       "    </tr>\n",
       "  </thead>\n",
       "  <tbody>\n",
       "    <tr>\n",
       "      <th>0</th>\n",
       "      <td>100002</td>\n",
       "      <td>1</td>\n",
       "      <td>0</td>\n",
       "      <td>M</td>\n",
       "      <td>0</td>\n",
       "      <td>1</td>\n",
       "      <td>0</td>\n",
       "      <td>202500.0</td>\n",
       "      <td>406597.5</td>\n",
       "      <td>24700.5</td>\n",
       "      <td>...</td>\n",
       "      <td>0</td>\n",
       "      <td>0</td>\n",
       "      <td>0</td>\n",
       "      <td>0</td>\n",
       "      <td>0.0</td>\n",
       "      <td>0.0</td>\n",
       "      <td>0.0</td>\n",
       "      <td>0.0</td>\n",
       "      <td>0.0</td>\n",
       "      <td>1.0</td>\n",
       "    </tr>\n",
       "    <tr>\n",
       "      <th>1</th>\n",
       "      <td>100003</td>\n",
       "      <td>0</td>\n",
       "      <td>0</td>\n",
       "      <td>F</td>\n",
       "      <td>0</td>\n",
       "      <td>0</td>\n",
       "      <td>0</td>\n",
       "      <td>270000.0</td>\n",
       "      <td>1293502.5</td>\n",
       "      <td>35698.5</td>\n",
       "      <td>...</td>\n",
       "      <td>0</td>\n",
       "      <td>0</td>\n",
       "      <td>0</td>\n",
       "      <td>0</td>\n",
       "      <td>0.0</td>\n",
       "      <td>0.0</td>\n",
       "      <td>0.0</td>\n",
       "      <td>0.0</td>\n",
       "      <td>0.0</td>\n",
       "      <td>0.0</td>\n",
       "    </tr>\n",
       "    <tr>\n",
       "      <th>2</th>\n",
       "      <td>100004</td>\n",
       "      <td>0</td>\n",
       "      <td>1</td>\n",
       "      <td>M</td>\n",
       "      <td>1</td>\n",
       "      <td>1</td>\n",
       "      <td>0</td>\n",
       "      <td>67500.0</td>\n",
       "      <td>135000.0</td>\n",
       "      <td>6750.0</td>\n",
       "      <td>...</td>\n",
       "      <td>0</td>\n",
       "      <td>0</td>\n",
       "      <td>0</td>\n",
       "      <td>0</td>\n",
       "      <td>0.0</td>\n",
       "      <td>0.0</td>\n",
       "      <td>0.0</td>\n",
       "      <td>0.0</td>\n",
       "      <td>0.0</td>\n",
       "      <td>0.0</td>\n",
       "    </tr>\n",
       "    <tr>\n",
       "      <th>3</th>\n",
       "      <td>100006</td>\n",
       "      <td>0</td>\n",
       "      <td>0</td>\n",
       "      <td>F</td>\n",
       "      <td>0</td>\n",
       "      <td>1</td>\n",
       "      <td>0</td>\n",
       "      <td>135000.0</td>\n",
       "      <td>312682.5</td>\n",
       "      <td>29686.5</td>\n",
       "      <td>...</td>\n",
       "      <td>0</td>\n",
       "      <td>0</td>\n",
       "      <td>0</td>\n",
       "      <td>0</td>\n",
       "      <td>NaN</td>\n",
       "      <td>NaN</td>\n",
       "      <td>NaN</td>\n",
       "      <td>NaN</td>\n",
       "      <td>NaN</td>\n",
       "      <td>NaN</td>\n",
       "    </tr>\n",
       "    <tr>\n",
       "      <th>4</th>\n",
       "      <td>100007</td>\n",
       "      <td>0</td>\n",
       "      <td>0</td>\n",
       "      <td>M</td>\n",
       "      <td>0</td>\n",
       "      <td>1</td>\n",
       "      <td>0</td>\n",
       "      <td>121500.0</td>\n",
       "      <td>513000.0</td>\n",
       "      <td>21865.5</td>\n",
       "      <td>...</td>\n",
       "      <td>0</td>\n",
       "      <td>0</td>\n",
       "      <td>0</td>\n",
       "      <td>0</td>\n",
       "      <td>0.0</td>\n",
       "      <td>0.0</td>\n",
       "      <td>0.0</td>\n",
       "      <td>0.0</td>\n",
       "      <td>0.0</td>\n",
       "      <td>0.0</td>\n",
       "    </tr>\n",
       "  </tbody>\n",
       "</table>\n",
       "<p>5 rows × 122 columns</p>\n",
       "</div>"
      ],
      "text/plain": [
       "   SK_ID_CURR  TARGET  NAME_CONTRACT_TYPE CODE_GENDER  FLAG_OWN_CAR  \\\n",
       "0      100002       1                   0           M             0   \n",
       "1      100003       0                   0           F             0   \n",
       "2      100004       0                   1           M             1   \n",
       "3      100006       0                   0           F             0   \n",
       "4      100007       0                   0           M             0   \n",
       "\n",
       "   FLAG_OWN_REALTY  CNT_CHILDREN  AMT_INCOME_TOTAL  AMT_CREDIT  AMT_ANNUITY  \\\n",
       "0                1             0          202500.0    406597.5      24700.5   \n",
       "1                0             0          270000.0   1293502.5      35698.5   \n",
       "2                1             0           67500.0    135000.0       6750.0   \n",
       "3                1             0          135000.0    312682.5      29686.5   \n",
       "4                1             0          121500.0    513000.0      21865.5   \n",
       "\n",
       "   ...  FLAG_DOCUMENT_18 FLAG_DOCUMENT_19 FLAG_DOCUMENT_20 FLAG_DOCUMENT_21  \\\n",
       "0  ...                 0                0                0                0   \n",
       "1  ...                 0                0                0                0   \n",
       "2  ...                 0                0                0                0   \n",
       "3  ...                 0                0                0                0   \n",
       "4  ...                 0                0                0                0   \n",
       "\n",
       "  AMT_REQ_CREDIT_BUREAU_HOUR AMT_REQ_CREDIT_BUREAU_DAY  \\\n",
       "0                        0.0                       0.0   \n",
       "1                        0.0                       0.0   \n",
       "2                        0.0                       0.0   \n",
       "3                        NaN                       NaN   \n",
       "4                        0.0                       0.0   \n",
       "\n",
       "   AMT_REQ_CREDIT_BUREAU_WEEK  AMT_REQ_CREDIT_BUREAU_MON  \\\n",
       "0                         0.0                        0.0   \n",
       "1                         0.0                        0.0   \n",
       "2                         0.0                        0.0   \n",
       "3                         NaN                        NaN   \n",
       "4                         0.0                        0.0   \n",
       "\n",
       "   AMT_REQ_CREDIT_BUREAU_QRT  AMT_REQ_CREDIT_BUREAU_YEAR  \n",
       "0                        0.0                         1.0  \n",
       "1                        0.0                         0.0  \n",
       "2                        0.0                         0.0  \n",
       "3                        NaN                         NaN  \n",
       "4                        0.0                         0.0  \n",
       "\n",
       "[5 rows x 122 columns]"
      ]
     },
     "execution_count": 3,
     "metadata": {},
     "output_type": "execute_result"
    }
   ],
   "source": [
    "# 將只有兩種值的類別型欄位, 做 Label Encoder, 計算相關係數時讓這些欄位可以被包含在內\n",
    "from sklearn.preprocessing import LabelEncoder\n",
    "le = LabelEncoder()\n",
    "\n",
    "# 檢查每一個 column\n",
    "for col in app_train:\n",
    "    if app_train[col].dtype == 'object':\n",
    "        # 如果只有兩種值的類別型欄位\n",
    "        if len(list(app_train[col].unique())) <= 2:\n",
    "            # 就做 Label Encoder, 以加入相關係數檢查\n",
    "            app_train[col] = le.fit_transform(app_train[col])            \n",
    "print(app_train.shape)\n",
    "app_train.head()"
   ]
  },
  {
   "cell_type": "code",
   "execution_count": 8,
   "metadata": {},
   "outputs": [],
   "source": [
    "# 受雇日數為異常值的資料, 另外設一個欄位記錄, 並將異常的日數轉成空值 (np.nan)\n",
    "app_train['DAYS_EMPLOYED_ANOM'] = app_train[\"DAYS_EMPLOYED\"] == 365243\n",
    "app_train['DAYS_EMPLOYED'].replace({365243: np.nan}, inplace = True)\n",
    "\n",
    "# 出生日數 (DAYS_BIRTH) 取絕對值 \n",
    "app_train['DAYS_BIRTH'] = abs(app_train['DAYS_BIRTH'])"
   ]
  },
  {
   "cell_type": "markdown",
   "metadata": {},
   "source": [
    "## 練習時間\n",
    "參考 Day 12 範例程式，離散化你覺得有興趣的欄位，並嘗試找出有趣的訊息"
   ]
  },
  {
   "cell_type": "markdown",
   "metadata": {
    "collapsed": true
   },
   "source": [
    "仿照 Day 12 的語法, 將年齡資料 ('DAYS_BIRTH' 除以 365) 離散化\n",
    "繪製上述的 \"離散化標籤\" 與目標值 ('TARGET') 的長條圖"
   ]
  },
  {
   "cell_type": "code",
   "execution_count": 9,
   "metadata": {},
   "outputs": [
    {
     "data": {
      "text/plain": [
       "(35.099, 39.959]    41758\n",
       "(39.959, 44.819]    40350\n",
       "(30.238, 35.099]    38430\n",
       "(44.819, 49.679]    34311\n",
       "(49.679, 54.54]     33544\n",
       "(25.378, 30.238]    33127\n",
       "(54.54, 59.4]       32650\n",
       "(59.4, 64.26]       27685\n",
       "(20.469, 25.378]    13679\n",
       "(64.26, 69.121]     11977\n",
       "Name: BIRTH_GROUP, dtype: int64"
      ]
     },
     "execution_count": 9,
     "metadata": {},
     "output_type": "execute_result"
    }
   ],
   "source": [
    "app_train['YEARS_BIRTH']=app_train['DAYS_BIRTH']/365\n",
    "app_train['BIRTH_GROUP']= pd.cut(app_train[\"YEARS_BIRTH\"], 10)\n",
    "app_train[\"BIRTH_GROUP\"].value_counts()"
   ]
  },
  {
   "cell_type": "code",
   "execution_count": 10,
   "metadata": {},
   "outputs": [
    {
     "data": {
      "image/png": "[encoded data removed]",
      "text/plain": [
       "<Figure size 432x288 with 1 Axes>"
      ]
     },
     "metadata": {
      "needs_background": "light"
     },
     "output_type": "display_data"
    }
   ],
   "source": [
    "#先練習年齡長條圖\n",
    "plt.hist(app_train['YEARS_BIRTH'] , edgecolor = 'k', bins = 25)\n",
    "plt.title('Age of Client'); plt.xlabel('Age (years)'); plt.ylabel('Count');\n",
    "plt.show()"
   ]
  },
  {
   "cell_type": "code",
   "execution_count": 16,
   "metadata": {},
   "outputs": [
    {
     "data": {
      "text/html": [
       "<div>\n",
       "<style scoped>\n",
       "    .dataframe tbody tr th:only-of-type {\n",
       "        vertical-align: middle;\n",
       "    }\n",
       "\n",
       "    .dataframe tbody tr th {\n",
       "        vertical-align: top;\n",
       "    }\n",
       "\n",
       "    .dataframe thead th {\n",
       "        text-align: right;\n",
       "    }\n",
       "</style>\n",
       "<table border=\"1\" class=\"dataframe\">\n",
       "  <thead>\n",
       "    <tr style=\"text-align: right;\">\n",
       "      <th></th>\n",
       "      <th>SK_ID_CURR</th>\n",
       "      <th>TARGET</th>\n",
       "      <th>CNT_CHILDREN</th>\n",
       "      <th>AMT_INCOME_TOTAL</th>\n",
       "      <th>AMT_CREDIT</th>\n",
       "      <th>AMT_ANNUITY</th>\n",
       "      <th>AMT_GOODS_PRICE</th>\n",
       "      <th>REGION_POPULATION_RELATIVE</th>\n",
       "      <th>DAYS_BIRTH</th>\n",
       "      <th>DAYS_EMPLOYED</th>\n",
       "      <th>...</th>\n",
       "      <th>FLAG_DOCUMENT_20</th>\n",
       "      <th>FLAG_DOCUMENT_21</th>\n",
       "      <th>AMT_REQ_CREDIT_BUREAU_HOUR</th>\n",
       "      <th>AMT_REQ_CREDIT_BUREAU_DAY</th>\n",
       "      <th>AMT_REQ_CREDIT_BUREAU_WEEK</th>\n",
       "      <th>AMT_REQ_CREDIT_BUREAU_MON</th>\n",
       "      <th>AMT_REQ_CREDIT_BUREAU_QRT</th>\n",
       "      <th>AMT_REQ_CREDIT_BUREAU_YEAR</th>\n",
       "      <th>DAYS_EMPLOYED_ANOM</th>\n",
       "      <th>YEARS_BIRTH</th>\n",
       "    </tr>\n",
       "    <tr>\n",
       "      <th>BIRTH_GROUP</th>\n",
       "      <th></th>\n",
       "      <th></th>\n",
       "      <th></th>\n",
       "      <th></th>\n",
       "      <th></th>\n",
       "      <th></th>\n",
       "      <th></th>\n",
       "      <th></th>\n",
       "      <th></th>\n",
       "      <th></th>\n",
       "      <th></th>\n",
       "      <th></th>\n",
       "      <th></th>\n",
       "      <th></th>\n",
       "      <th></th>\n",
       "      <th></th>\n",
       "      <th></th>\n",
       "      <th></th>\n",
       "      <th></th>\n",
       "      <th></th>\n",
       "      <th></th>\n",
       "    </tr>\n",
       "  </thead>\n",
       "  <tbody>\n",
       "    <tr>\n",
       "      <th>(20.469, 25.378]</th>\n",
       "      <td>3790703345</td>\n",
       "      <td>1669</td>\n",
       "      <td>3091</td>\n",
       "      <td>2.008253e+09</td>\n",
       "      <td>5.751652e+09</td>\n",
       "      <td>3.003789e+08</td>\n",
       "      <td>5.185431e+09</td>\n",
       "      <td>279.123338</td>\n",
       "      <td>117723337</td>\n",
       "      <td>-10912423.0</td>\n",
       "      <td>...</td>\n",
       "      <td>7</td>\n",
       "      <td>67</td>\n",
       "      <td>91.0</td>\n",
       "      <td>72.0</td>\n",
       "      <td>339.0</td>\n",
       "      <td>1562.0</td>\n",
       "      <td>2687.0</td>\n",
       "      <td>15661.0</td>\n",
       "      <td>37.0</td>\n",
       "      <td>3.225297e+05</td>\n",
       "    </tr>\n",
       "    <tr>\n",
       "      <th>(25.378, 30.238]</th>\n",
       "      <td>9205071385</td>\n",
       "      <td>3690</td>\n",
       "      <td>18119</td>\n",
       "      <td>5.480158e+09</td>\n",
       "      <td>1.689643e+10</td>\n",
       "      <td>8.601260e+08</td>\n",
       "      <td>1.519160e+10</td>\n",
       "      <td>665.753619</td>\n",
       "      <td>339371789</td>\n",
       "      <td>-43801324.0</td>\n",
       "      <td>...</td>\n",
       "      <td>30</td>\n",
       "      <td>23</td>\n",
       "      <td>201.0</td>\n",
       "      <td>212.0</td>\n",
       "      <td>934.0</td>\n",
       "      <td>6390.0</td>\n",
       "      <td>7098.0</td>\n",
       "      <td>49479.0</td>\n",
       "      <td>111.0</td>\n",
       "      <td>9.297857e+05</td>\n",
       "    </tr>\n",
       "    <tr>\n",
       "      <th>(30.238, 35.099]</th>\n",
       "      <td>10681647806</td>\n",
       "      <td>3916</td>\n",
       "      <td>31584</td>\n",
       "      <td>6.856009e+09</td>\n",
       "      <td>2.205003e+10</td>\n",
       "      <td>1.054810e+09</td>\n",
       "      <td>1.979613e+10</td>\n",
       "      <td>783.506248</td>\n",
       "      <td>457846024</td>\n",
       "      <td>-68801952.0</td>\n",
       "      <td>...</td>\n",
       "      <td>24</td>\n",
       "      <td>3</td>\n",
       "      <td>207.0</td>\n",
       "      <td>260.0</td>\n",
       "      <td>1157.0</td>\n",
       "      <td>9608.0</td>\n",
       "      <td>8451.0</td>\n",
       "      <td>59663.0</td>\n",
       "      <td>152.0</td>\n",
       "      <td>1.254373e+06</td>\n",
       "    </tr>\n",
       "    <tr>\n",
       "      <th>(35.099, 39.959]</th>\n",
       "      <td>11618378435</td>\n",
       "      <td>3736</td>\n",
       "      <td>35361</td>\n",
       "      <td>7.501334e+09</td>\n",
       "      <td>2.622709e+10</td>\n",
       "      <td>1.180917e+09</td>\n",
       "      <td>2.356253e+10</td>\n",
       "      <td>865.878697</td>\n",
       "      <td>572827061</td>\n",
       "      <td>-92390212.0</td>\n",
       "      <td>...</td>\n",
       "      <td>23</td>\n",
       "      <td>5</td>\n",
       "      <td>227.0</td>\n",
       "      <td>261.0</td>\n",
       "      <td>1247.0</td>\n",
       "      <td>10323.0</td>\n",
       "      <td>9767.0</td>\n",
       "      <td>67438.0</td>\n",
       "      <td>334.0</td>\n",
       "      <td>1.569389e+06</td>\n",
       "    </tr>\n",
       "    <tr>\n",
       "      <th>(39.959, 44.819]</th>\n",
       "      <td>11251509951</td>\n",
       "      <td>3187</td>\n",
       "      <td>23850</td>\n",
       "      <td>7.321982e+09</td>\n",
       "      <td>2.618674e+10</td>\n",
       "      <td>1.160419e+09</td>\n",
       "      <td>2.351372e+10</td>\n",
       "      <td>844.023311</td>\n",
       "      <td>623781605</td>\n",
       "      <td>-103497386.0</td>\n",
       "      <td>...</td>\n",
       "      <td>32</td>\n",
       "      <td>3</td>\n",
       "      <td>218.0</td>\n",
       "      <td>218.0</td>\n",
       "      <td>1230.0</td>\n",
       "      <td>10633.0</td>\n",
       "      <td>9379.0</td>\n",
       "      <td>67565.0</td>\n",
       "      <td>607.0</td>\n",
       "      <td>1.708991e+06</td>\n",
       "    </tr>\n",
       "  </tbody>\n",
       "</table>\n",
       "<p>5 rows × 108 columns</p>\n",
       "</div>"
      ],
      "text/plain": [
       "                   SK_ID_CURR  TARGET  CNT_CHILDREN  AMT_INCOME_TOTAL  \\\n",
       "BIRTH_GROUP                                                             \n",
       "(20.469, 25.378]   3790703345    1669          3091      2.008253e+09   \n",
       "(25.378, 30.238]   9205071385    3690         18119      5.480158e+09   \n",
       "(30.238, 35.099]  10681647806    3916         31584      6.856009e+09   \n",
       "(35.099, 39.959]  11618378435    3736         35361      7.501334e+09   \n",
       "(39.959, 44.819]  11251509951    3187         23850      7.321982e+09   \n",
       "\n",
       "                    AMT_CREDIT   AMT_ANNUITY  AMT_GOODS_PRICE  \\\n",
       "BIRTH_GROUP                                                     \n",
       "(20.469, 25.378]  5.751652e+09  3.003789e+08     5.185431e+09   \n",
       "(25.378, 30.238]  1.689643e+10  8.601260e+08     1.519160e+10   \n",
       "(30.238, 35.099]  2.205003e+10  1.054810e+09     1.979613e+10   \n",
       "(35.099, 39.959]  2.622709e+10  1.180917e+09     2.356253e+10   \n",
       "(39.959, 44.819]  2.618674e+10  1.160419e+09     2.351372e+10   \n",
       "\n",
       "                  REGION_POPULATION_RELATIVE  DAYS_BIRTH  DAYS_EMPLOYED  ...  \\\n",
       "BIRTH_GROUP                                                              ...   \n",
       "(20.469, 25.378]                  279.123338   117723337    -10912423.0  ...   \n",
       "(25.378, 30.238]                  665.753619   339371789    -43801324.0  ...   \n",
       "(30.238, 35.099]                  783.506248   457846024    -68801952.0  ...   \n",
       "(35.099, 39.959]                  865.878697   572827061    -92390212.0  ...   \n",
       "(39.959, 44.819]                  844.023311   623781605   -103497386.0  ...   \n",
       "\n",
       "                  FLAG_DOCUMENT_20  FLAG_DOCUMENT_21  \\\n",
       "BIRTH_GROUP                                            \n",
       "(20.469, 25.378]                 7                67   \n",
       "(25.378, 30.238]                30                23   \n",
       "(30.238, 35.099]                24                 3   \n",
       "(35.099, 39.959]                23                 5   \n",
       "(39.959, 44.819]                32                 3   \n",
       "\n",
       "                  AMT_REQ_CREDIT_BUREAU_HOUR  AMT_REQ_CREDIT_BUREAU_DAY  \\\n",
       "BIRTH_GROUP                                                               \n",
       "(20.469, 25.378]                        91.0                       72.0   \n",
       "(25.378, 30.238]                       201.0                      212.0   \n",
       "(30.238, 35.099]                       207.0                      260.0   \n",
       "(35.099, 39.959]                       227.0                      261.0   \n",
       "(39.959, 44.819]                       218.0                      218.0   \n",
       "\n",
       "                  AMT_REQ_CREDIT_BUREAU_WEEK  AMT_REQ_CREDIT_BUREAU_MON  \\\n",
       "BIRTH_GROUP                                                               \n",
       "(20.469, 25.378]                       339.0                     1562.0   \n",
       "(25.378, 30.238]                       934.0                     6390.0   \n",
       "(30.238, 35.099]                      1157.0                     9608.0   \n",
       "(35.099, 39.959]                      1247.0                    10323.0   \n",
       "(39.959, 44.819]                      1230.0                    10633.0   \n",
       "\n",
       "                  AMT_REQ_CREDIT_BUREAU_QRT  AMT_REQ_CREDIT_BUREAU_YEAR  \\\n",
       "BIRTH_GROUP                                                               \n",
       "(20.469, 25.378]                     2687.0                     15661.0   \n",
       "(25.378, 30.238]                     7098.0                     49479.0   \n",
       "(30.238, 35.099]                     8451.0                     59663.0   \n",
       "(35.099, 39.959]                     9767.0                     67438.0   \n",
       "(39.959, 44.819]                     9379.0                     67565.0   \n",
       "\n",
       "                  DAYS_EMPLOYED_ANOM   YEARS_BIRTH  \n",
       "BIRTH_GROUP                                         \n",
       "(20.469, 25.378]                37.0  3.225297e+05  \n",
       "(25.378, 30.238]               111.0  9.297857e+05  \n",
       "(30.238, 35.099]               152.0  1.254373e+06  \n",
       "(35.099, 39.959]               334.0  1.569389e+06  \n",
       "(39.959, 44.819]               607.0  1.708991e+06  \n",
       "\n",
       "[5 rows x 108 columns]"
      ]
     },
     "execution_count": 16,
     "metadata": {},
     "output_type": "execute_result"
    }
   ],
   "source": [
    "#group by\n",
    "age_groups=app_train.groupby('BIRTH_GROUP').sum()\n",
    "age_groups.head(5)"
   ]
  },
  {
   "cell_type": "code",
   "execution_count": 19,
   "metadata": {},
   "outputs": [
    {
     "data": {
      "image/png": "[encoded data removed]",
      "text/plain": [
       "<Figure size 432x288 with 1 Axes>"
      ]
     },
     "metadata": {
      "needs_background": "light"
     },
     "output_type": "display_data"
    }
   ],
   "source": [
    "#plt圖做不出想要的樣子\n",
    "plt.hist(age_groups['TARGET'])\n",
    "plt.title('Age of Client'); plt.xlabel('Age (group)'); plt.ylabel('Target Count');\n",
    "plt.show()"
   ]
  },
  {
   "cell_type": "code",
   "execution_count": 36,
   "metadata": {},
   "outputs": [
    {
     "name": "stderr",
     "output_type": "stream",
     "text": [
      "C:\\Users\\June Chou\\Anaconda3\\lib\\site-packages\\scipy\\stats\\stats.py:1713: FutureWarning: Using a non-tuple sequence for multidimensional indexing is deprecated; use `arr[tuple(seq)]` instead of `arr[seq]`. In the future this will be interpreted as an array index, `arr[np.array(seq)]`, which will result either in an error or a different result.\n",
      "  return np.add.reduce(sorted[indexer] * weights, axis=axis) / sumval\n"
     ]
    },
    {
     "data": {
      "text/plain": [
       "<matplotlib.axes._subplots.AxesSubplot at 0xb550f6d908>"
      ]
     },
     "execution_count": 36,
     "metadata": {},
     "output_type": "execute_result"
    },
    {
     "data": {
      "image/png": "[encoded data removed]",
      "text/plain": [
       "<Figure size 1152x1152 with 1 Axes>"
      ]
     },
     "metadata": {
      "needs_background": "light"
     },
     "output_type": "display_data"
    }
   ],
   "source": [
    "#seaborn依照比例顯示\n",
    "plt.figure(figsize = (16, 16))\n",
    "px = app_train['BIRTH_GROUP']\n",
    "py = app_train['TARGET']   #*app_train[\"TARGET\"].sum() #前面做過比例處理\n",
    "sns.barplot(px, py)"
   ]
  },
  {
   "cell_type": "code",
   "execution_count": 30,
   "metadata": {},
   "outputs": [
    {
     "data": {
      "text/plain": [
       "<matplotlib.axes._subplots.AxesSubplot at 0xb550edd550>"
      ]
     },
     "execution_count": 30,
     "metadata": {},
     "output_type": "execute_result"
    },
    {
     "data": {
      "image/png": "[encoded data removed]",
      "text/plain": [
       "<Figure size 1152x1152 with 1 Axes>"
      ]
     },
     "metadata": {
      "needs_background": "light"
     },
     "output_type": "display_data"
    }
   ],
   "source": [
    "#下面是先group by 後再群組加總\n",
    "plt.figure(figsize = (16, 16))\n",
    "px = age_groups.index\n",
    "py = age_groups['TARGET']\n",
    "sns.barplot(px, py)"
   ]
  }
 ],
 "metadata": {
  "kernelspec": {
   "display_name": "Python 3",
   "language": "python",
   "name": "python3"
  },
  "language_info": {
   "codemirror_mode": {
    "name": "ipython",
    "version": 3
   },
   "file_extension": ".py",
   "mimetype": "text/x-python",
   "name": "python",
   "nbconvert_exporter": "python",
   "pygments_lexer": "ipython3",
   "version": "3.6.6"
  }
 },
 "nbformat": 4,
 "nbformat_minor": 2
}
